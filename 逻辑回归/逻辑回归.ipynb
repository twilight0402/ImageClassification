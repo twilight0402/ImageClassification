{
 "cells": [
  {
   "cell_type": "code",
   "execution_count": 2,
   "metadata": {},
   "outputs": [],
   "source": [
    "import tensorflow as tf\n",
    "import numpy as np\n",
    "import tensorflow.keras\n",
    "import tensorflow.keras.datasets.mnist as mnist_keras\n",
    "from tensorflow.examples.tutorials.mnist import input_data"
   ]
  },
  {
   "cell_type": "markdown",
   "metadata": {},
   "source": [
    "# 查看数据集"
   ]
  },
  {
   "cell_type": "code",
   "execution_count": 4,
   "metadata": {},
   "outputs": [
    {
     "name": "stdout",
     "output_type": "stream",
     "text": [
      "Extracting ../datasets/MNIST_qata\\train-images-idx3-ubyte.gz\n",
      "Extracting ../datasets/MNIST_qata\\train-labels-idx1-ubyte.gz\n",
      "Extracting ../datasets/MNIST_qata\\t10k-images-idx3-ubyte.gz\n",
      "Extracting ../datasets/MNIST_qata\\t10k-labels-idx1-ubyte.gz\n"
     ]
    },
    {
     "data": {
      "text/plain": [
       "((55000, 784), (55000, 10), (10000, 784), (10000, 10))"
      ]
     },
     "execution_count": 4,
     "metadata": {},
     "output_type": "execute_result"
    }
   ],
   "source": [
    "# tensorflow\n",
    "mnist = input_data.read_data_sets(\"../datasets/MNIST_qata\", one_hot=True)\n",
    "\n",
    "train_images = mnist.train.images\n",
    "train_labels = mnist.train.labels\n",
    "test_images = mnist.test.images\n",
    "test_labels = mnist.test.labels\n",
    "\n",
    "train_images.shape, train_labels.shape, test_images.shape, test_labels.shape"
   ]
  },
  {
   "cell_type": "markdown",
   "metadata": {},
   "source": [
    "# 逻辑回归\n",
    "单神经元的神经网络，使用softmax激活函数"
   ]
  },
  {
   "cell_type": "code",
   "execution_count": 5,
   "metadata": {},
   "outputs": [
    {
     "name": "stdout",
     "output_type": "stream",
     "text": [
      "epoch:5 cost= 0.463787\n",
      "epoch:10 cost= 0.390954\n",
      "epoch:15 cost= 0.361373\n",
      "epoch:20 cost= 0.344134\n",
      "epoch:25 cost= 0.332483\n",
      "epoch:30 cost= 0.323866\n",
      "epoch:35 cost= 0.317114\n",
      "epoch:40 cost= 0.311696\n",
      "epoch:45 cost= 0.307191\n",
      "epoch:50 cost= 0.303322\n",
      "epoch:55 cost= 0.300076\n",
      "epoch:60 cost= 0.297166\n",
      "epoch:65 cost= 0.294558\n",
      "epoch:70 cost= 0.292285\n",
      "epoch:75 cost= 0.290173\n",
      "epoch:80 cost= 0.288341\n",
      "epoch:85 cost= 0.286602\n",
      "epoch:90 cost= 0.285024\n",
      "epoch:95 cost= 0.283537\n",
      "epoch:100 cost= 0.282153\n",
      "训练完成\n"
     ]
    }
   ],
   "source": [
    "batch_size = 100\n",
    "input_size = 784\n",
    "output_size = 10\n",
    "epoch = 100\n",
    "\n",
    "x = tf.placeholder(tf.float32, (None, input_size))\n",
    "y = tf.placeholder(tf.float32, (None, output_size))\n",
    "\n",
    "w = tf.Variable(tf.zeros([input_size, output_size]))\n",
    "b = tf.Variable(tf.zeros([output_size]))\n",
    "\n",
    "# 神经网络\n",
    "pred = tf.nn.softmax(tf.matmul(x, w) + b)\n",
    "cost = tf.reduce_mean(-tf.reduce_sum(y*tf.log(pred), 1))\n",
    "\n",
    "optimizer = tf.train.GradientDescentOptimizer(0.01).minimize(cost)\n",
    "\n",
    "sess = tf.Session()\n",
    "with sess.as_default():\n",
    "    init = tf.global_variables_initializer()\n",
    "    sess.run(init)\n",
    "    \n",
    "    for k in range(1, epoch + 1):\n",
    "        avg_cost = 0\n",
    "        total_batch = int(train_images.shape[0] / batch_size)\n",
    "        \n",
    "        for i in range(total_batch):\n",
    "            batch_xs, batch_ys = mnist.train.next_batch(batch_size)\n",
    "            sess.run(optimizer, feed_dict={x:batch_xs, y:batch_ys})\n",
    "            \n",
    "            # 计算计算损失\n",
    "            avg_cost += sess.run(cost, feed_dict={x: batch_xs, y:batch_ys}) / total_batch\n",
    "        \n",
    "        if k % 5 == 0:\n",
    "            print(\"epoch:%d\" % k, \"cost={:9f}\".format(avg_cost))\n",
    "print(\"训练完成\")"
   ]
  }
 ],
 "metadata": {
  "kernelspec": {
   "display_name": "tensorflowcpu1.14",
   "language": "python",
   "name": "tensorflowcpu1.14"
  },
  "language_info": {
   "codemirror_mode": {
    "name": "ipython",
    "version": 3
   },
   "file_extension": ".py",
   "mimetype": "text/x-python",
   "name": "python",
   "nbconvert_exporter": "python",
   "pygments_lexer": "ipython3",
   "version": "3.7.3"
  }
 },
 "nbformat": 4,
 "nbformat_minor": 2
}

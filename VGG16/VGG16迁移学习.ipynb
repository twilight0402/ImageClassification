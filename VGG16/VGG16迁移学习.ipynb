{
 "cells": [
  {
   "cell_type": "markdown",
   "metadata": {},
   "source": [
    "# VGG116\n",
    "![](https://picgogogo.oss-cn-hangzhou.aliyuncs.com/img/vgg16.jpg)"
   ]
  },
  {
   "cell_type": "code",
   "execution_count": null,
   "metadata": {},
   "outputs": [],
   "source": [
    "from tensorflow.keras.applications.vgg16 import VGG16\n",
    "\n",
    "# 其次加载其他模块\n",
    "from tensorflow.keras.layers import Input\n",
    "from tensorflow.keras.layers import Flatten\n",
    "from tensorflow.keras.layers import Dense\n",
    "from tensorflow.keras.layers import Dropout\n",
    "from tensorflow.keras.models import Model\n",
    "from tensorflow.keras.optimizers import SGD\n",
    "\n",
    "import cv2\n",
    "import h5py as h5py\n",
    "import numpy as np\n",
    "\n",
    "# 加载字体库作为训练样本\n",
    "from tensorflow.keras.datasets import mnist"
   ]
  },
  {
   "cell_type": "code",
   "execution_count": null,
   "metadata": {},
   "outputs": [],
   "source": [
    "# 原版的VGG16\n",
    "model_vgg = VGG16(include_top=False, weights='imagenet', input_shape=(224, 224, 3))\n",
    "\n",
    "for layer in model_vgg.layers:\n",
    "    layer.trainable = False#别去调整之前的卷积层的参数\n",
    "    \n",
    "model = Flatten()(model_vgg.output)\n",
    "model = Dense(100, activation='relu', name='fc1')(model)\n",
    "model = Dense(100, activation='relu', name='fc2')(model)\n",
    "model = Dropout(0.5)(model)\n",
    "model = Dense(10, activation='softmax', name='prediction')(model)\n",
    "model_vgg_mnist_pretrain = Model(model_vgg.input, model, name='vgg16_pretrain')\n",
    "\n",
    "sgd = SGD(lr=0.05, decay=1e-5) \n",
    "\n",
    "model_vgg_mnist_pretrain.compile(loss='categorical_crossentropy',optimizer=sgd, metrics=['accuracy'])\n",
    "\n",
    "(X_train, y_train), (X_test, y_test) = mnist.load_data()\n",
    "# X_train, y_train = X_train[:1000], y_train[:1000]    #训练集1000条\n",
    "# X_test, y_test = X_test[:100], y_test[:100]          #测试集100条\n",
    "\n",
    "print(X_train.shape, y_train.shape)\n",
    "\n",
    "def y_onehot(y):\n",
    "    y_o = np.zeros(10)\n",
    "    y_o[y] = 1\n",
    "    return y_o\n",
    "\n",
    "# 转换图像\n",
    "X_train_new = np.array([cv2.cvtColor(cv2.resize(img, (224, 224)), cv2.COLOR_GRAY2RGB) for img in X_train])\n",
    "X_test_new = np.array([cv2.cvtColor(cv2.resize(img, (224, 224)), cv2.COLOR_GRAY2RGB) for img in X_test])\n",
    "y_train_new = np.array([y_onehot(y_train[i]) for i in range(len(y_train))])\n",
    "y_test_new = np.array([y_onehot(y_train[i]) for i in range(len(y_test))])\n",
    "\n",
    "print(X_train_new.shape, y_train_new.shape)"
   ]
  },
  {
   "cell_type": "code",
   "execution_count": null,
   "metadata": {},
   "outputs": [],
   "source": [
    "# 训练\n",
    "model_vgg_mnist_pretrain.fit(X_train_new, y_train_new, epochs=50, batch_size=25)\n",
    "\n",
    "# 精确度\n",
    "pred = model_vgg_mnist_pretrain.predict(X_test_new, batch_size=15)\n",
    "accuracy = np.mean(np.argmax(pred, axis=1) == np.argmax(y_test_new, axis=1))\n",
    "print(accuracy)"
   ]
  }
 ],
 "metadata": {
  "kernelspec": {
   "display_name": "tensorflowcpu1.14",
   "language": "python",
   "name": "tensorflowcpu1.14"
  },
  "language_info": {
   "codemirror_mode": {
    "name": "ipython",
    "version": 3
   },
   "file_extension": ".py",
   "mimetype": "text/x-python",
   "name": "python",
   "nbconvert_exporter": "python",
   "pygments_lexer": "ipython3",
   "version": "3.7.3"
  }
 },
 "nbformat": 4,
 "nbformat_minor": 2
}

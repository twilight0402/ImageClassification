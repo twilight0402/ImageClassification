{
 "cells": [
  {
   "cell_type": "code",
   "execution_count": null,
   "metadata": {},
   "outputs": [],
   "source": [
    "import tensorflow as tf\n",
    "import numpy as np\n",
    "import tensorflow.keras\n",
    "import tensorflow.keras.datasets.mnist as mnist_keras\n",
    "from tensorflow.examples.tutorials.mnist import input_data"
   ]
  },
  {
   "cell_type": "markdown",
   "metadata": {},
   "source": [
    "# 查看数据集"
   ]
  },
  {
   "cell_type": "code",
   "execution_count": null,
   "metadata": {},
   "outputs": [],
   "source": [
    "# tensorflow\n",
    "mnist = input_data.read_data_sets(\"../datasets/MNIST_qata\", one_hot=True)\n",
    "\n",
    "train_images = mnist.train.images\n",
    "train_labels = mnist.train.labels\n",
    "test_images = mnist.test.images\n",
    "test_labels = mnist.test.labels\n",
    "\n",
    "train_images.shape, train_labels.shape, test_images.shape, test_labels.shape"
   ]
  },
  {
   "cell_type": "markdown",
   "metadata": {},
   "source": [
    "# 使用神经网络（3层）"
   ]
  },
  {
   "cell_type": "code",
   "execution_count": null,
   "metadata": {},
   "outputs": [],
   "source": [
    "# 初始化权重函数\n",
    "def init_weights(shape):\n",
    "    return tf.Variable(tf.random_normal(shape, stddev=0.01))\n",
    "\n",
    "# 定义模型函数(线性的模型)\n",
    "def model(X, w_1, b_1, w_2, b_2, w_o, b_o):\n",
    "    layer = tf.matmul(X, w_1) + b_1\n",
    "    layer = tf.nn.relu(layer)\n",
    "    \n",
    "    layer = tf.matmul(layer, w_2) + b_2\n",
    "    layer = tf.nn.relu(layer)\n",
    "    \n",
    "    layer = tf.matmul(layer, w_o) + b_o\n",
    "    h = tf.nn.sigmoid(layer)\n",
    "    return h\n",
    "\n",
    "# 获取数据\n",
    "trX, trY, teX, teY = mnist.train.images, mnist.train.labels, mnist.test.images, mnist.test.labels\n",
    "\n",
    "# 定义占位符\n",
    "X = tf.placeholder(\"float\", [None, 784])\n",
    "Y = tf.placeholder(\"float\", [None, 10])\n",
    "\n",
    "layer1_size = 625\n",
    "layer2_size = 500\n",
    "\n",
    "# 初始化权重\n",
    "w_1 = init_weights([784, layer1_size]) # create symbolic variables\n",
    "b_1 = tf.Variable(tf.random_normal([layer1_size], stddev=0.01))\n",
    "\n",
    "w_2 = init_weights([layer1_size, layer2_size])\n",
    "b_2 = tf.Variable(tf.random_normal([layer2_size], stddev=0.01))\n",
    "\n",
    "w_o = init_weights([layer2_size, 10])\n",
    "b_o = tf.Variable(tf.random_normal([10], stddev=0.01))\n",
    "\n",
    "# 进行模型运算得出每个样本的10个结果\n",
    "py_x = model(X, w_1, b_1, w_2, b_2, w_o, b_o)\n",
    "print(py_x)\n",
    "\n",
    "# 损失值\n",
    "cost = tf.reduce_mean(tf.nn.softmax_cross_entropy_with_logits(logits=py_x, labels=Y)) # compute costs\n",
    "\n",
    "# 梯度下降\n",
    "train_op = tf.train.GradientDescentOptimizer(0.05).minimize(cost) # construct an optimizer\n",
    "\n",
    "# 获得10个结果里最大值的索引，即预测值（可能是0-9中的一个）的索引\n",
    "predict_op = tf.argmax(py_x, 1)"
   ]
  },
  {
   "cell_type": "code",
   "execution_count": null,
   "metadata": {},
   "outputs": [],
   "source": [
    "# 开启会话，开始训练\n",
    "with tf.Session() as sess:\n",
    "    # 初始化所有变量\n",
    "    tf.global_variables_initializer().run()\n",
    "\n",
    "    # 开始训练，训练10轮\n",
    "    for i in range(300):\n",
    "        '''\n",
    "        每个循环训练一个batch，从[0,128]开始到[128,255]...\n",
    "        ([0, 128, 256, 384, 512, 640, 768, 896, 1024, 1152],\n",
    "         [128, 256, 384, 512, 640, 768, 896, 1024, 1152, 1280])\n",
    "        '''\n",
    "        for start, end in zip(range(0, len(trX), 128), range(128, len(trX)+1, 128)):\n",
    "            sess.run(train_op, feed_dict={X: trX[start:end], Y: trY[start:end]})\n",
    "        \n",
    "        # 准确度，但是这是线性的net，\n",
    "        print(i, np.mean(np.argmax(teY, axis=1) ==sess.run(predict_op, feed_dict={X: teX})))\n",
    "        #该轮 测试集的真实值 是否等于 训练结果即预测值\n",
    "    print(i, np.mean(np.argmax(trY, axis=1) ==sess.run(predict_op, feed_dict={X: trX})))"
   ]
  }
 ],
 "metadata": {
  "kernelspec": {
   "display_name": "Python 3",
   "language": "python",
   "name": "python3"
  },
  "language_info": {
   "codemirror_mode": {
    "name": "ipython",
    "version": 3
   },
   "file_extension": ".py",
   "mimetype": "text/x-python",
   "name": "python",
   "nbconvert_exporter": "python",
   "pygments_lexer": "ipython3",
   "version": "3.7.3"
  }
 },
 "nbformat": 4,
 "nbformat_minor": 2
}
